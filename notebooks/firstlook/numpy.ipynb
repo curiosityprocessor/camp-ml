{
 "cells": [
  {
   "cell_type": "markdown",
   "metadata": {},
   "source": [
    "## first look at numpy"
   ]
  },
  {
   "cell_type": "code",
   "execution_count": 12,
   "metadata": {},
   "outputs": [],
   "source": [
    "import numpy as np"
   ]
  },
  {
   "cell_type": "markdown",
   "metadata": {},
   "source": [
    "#### numpy.array()\n",
    "- input: array-like data\n",
    "- ouput: ndarray (N-dimensional array)\n",
    "- `array().shape`: shows the dimension and size of the ndarray as a tuple"
   ]
  },
  {
   "cell_type": "code",
   "execution_count": 13,
   "metadata": {},
   "outputs": [
    {
     "name": "stdout",
     "output_type": "stream",
     "text": [
      "array1: <class 'numpy.ndarray'> (3,)\n",
      "array2: <class 'numpy.ndarray'> (2, 3)\n",
      "array3: <class 'numpy.ndarray'> (1, 3)\n",
      "array4: <class 'numpy.ndarray'> (2, 2, 3)\n"
     ]
    }
   ],
   "source": [
    "array1 = np.array([1, 2, 3])\n",
    "print(\"array1:\", type(array1), array1.shape)\n",
    "# (3,) => 1 dimensional data, consisting of 3 elements\n",
    "\n",
    "array2 = np.array([[1, 2, 3], [3, 4, 5]])\n",
    "print(\"array2:\", type(array2), array2.shape)\n",
    "# (2, 3) => 2 dimensional data, consisting of 2 rows and 3 columns\n",
    "\n",
    "array3 = np.array([[1, 2, 3]])\n",
    "print(\"array3:\", type(array3), array3.shape)\n",
    "# (1, 3) => 2 dimensional data, consisting of 1 row and 3 columns\n",
    "\n",
    "array4 = np.array([[[1, 2, 3], [3, 4, 5]], [[5, 6, 7], [7, 8, 9]]])\n",
    "print(\"array4:\", type(array4), array4.shape)\n",
    "# (2, 2, 3) => 3 dimensional data, consisting of 2 depths, 2 rows and 3 columns"
   ]
  }
 ],
 "metadata": {
  "kernelspec": {
   "display_name": "Python 3",
   "language": "python",
   "name": "python3"
  },
  "language_info": {
   "codemirror_mode": {
    "name": "ipython",
    "version": 3
   },
   "file_extension": ".py",
   "mimetype": "text/x-python",
   "name": "python",
   "nbconvert_exporter": "python",
   "pygments_lexer": "ipython3",
   "version": "3.12.3"
  }
 },
 "nbformat": 4,
 "nbformat_minor": 2
}
