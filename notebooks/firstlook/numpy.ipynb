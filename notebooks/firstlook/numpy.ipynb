{
 "cells": [
  {
   "cell_type": "markdown",
   "metadata": {},
   "source": [
    "## first look at numpy\n"
   ]
  },
  {
   "cell_type": "code",
   "execution_count": 1,
   "metadata": {},
   "outputs": [],
   "source": [
    "import numpy as np"
   ]
  },
  {
   "cell_type": "markdown",
   "metadata": {},
   "source": [
    "#### numpy.array()\n",
    "\n",
    "- input: array-like data\n",
    "- ouput: ndarray (N-dimensional array)\n",
    "\n",
    "`array().shape`: shows the dimension and size of the ndarray as a tuple\n"
   ]
  },
  {
   "cell_type": "code",
   "execution_count": 2,
   "metadata": {},
   "outputs": [
    {
     "name": "stdout",
     "output_type": "stream",
     "text": [
      "array1: <class 'numpy.ndarray'> (3,)\n",
      "array2: <class 'numpy.ndarray'> (2, 3)\n",
      "array3: <class 'numpy.ndarray'> (1, 3)\n",
      "array4: <class 'numpy.ndarray'> (2, 2, 3)\n"
     ]
    }
   ],
   "source": [
    "array1 = np.array([1, 2, 3])\n",
    "print(\"array1:\", type(array1), array1.shape)\n",
    "# (3,) => 1 dimensional data, consisting of 3 elements\n",
    "\n",
    "array2 = np.array([[1, 2, 3], [3, 4, 5]])\n",
    "print(\"array2:\", type(array2), array2.shape)\n",
    "# (2, 3) => 2 dimensional data, consisting of 2 rows and 3 columns\n",
    "\n",
    "array3 = np.array([[1, 2, 3]])\n",
    "print(\"array3:\", type(array3), array3.shape)\n",
    "# (1, 3) => 2 dimensional data, consisting of 1 row and 3 columns\n",
    "\n",
    "array4 = np.array([[[1, 2, 3], [3, 4, 5]], [[5, 6, 7], [7, 8, 9]]])\n",
    "print(\"array4:\", type(array4), array4.shape)\n",
    "# (2, 2, 3) => 3 dimensional data, consisting of 2 depths, 2 rows and 3 columns"
   ]
  },
  {
   "cell_type": "markdown",
   "metadata": {},
   "source": [
    "`ndarray.ndim`\n",
    "\n",
    "- returns the dimensions of the ndarray\n"
   ]
  },
  {
   "cell_type": "code",
   "execution_count": 3,
   "metadata": {},
   "outputs": [
    {
     "name": "stdout",
     "output_type": "stream",
     "text": [
      "array1: 1 dimension\n",
      "array2: 2 dimension\n",
      "array3:  2 dimension\n",
      "array4:   3 dimension\n"
     ]
    }
   ],
   "source": [
    "print(\n",
    "    \"array1: {:0} dimension\\narray2: {:1} dimension\\narray3: {:2} dimension\\narray4: {:3} dimension\".format(\n",
    "        array1.ndim, array2.ndim, array3.ndim, array4.ndim\n",
    "    )\n",
    ")"
   ]
  },
  {
   "cell_type": "markdown",
   "metadata": {},
   "source": [
    "`ndarray.dtype`\n",
    "\n",
    "- returns the data type of the elements in the ndarray\n",
    "- all elements in an ndarray must be of the same data type\n"
   ]
  },
  {
   "cell_type": "code",
   "execution_count": 6,
   "metadata": {},
   "outputs": [
    {
     "name": "stdout",
     "output_type": "stream",
     "text": [
      "<class 'list'>\n",
      "<class 'numpy.ndarray'>\n",
      "[1 2 3] int32\n"
     ]
    }
   ],
   "source": [
    "list1 = [1, 2, 3]\n",
    "print(type(list1))\n",
    "\n",
    "arrayFromList1 = np.array(list1)\n",
    "print(type(arrayFromList1))\n",
    "print(arrayFromList1, arrayFromList1.dtype)"
   ]
  },
  {
   "cell_type": "markdown",
   "metadata": {},
   "source": [
    "creating an ndarray from a list of mixed data type\n",
    "\n",
    "- results in an ndarray of larger (more comprehensive) data type\n",
    "- i.e. int32 & float -> float\n",
    "- i.e. int32 & string -> string\n"
   ]
  },
  {
   "cell_type": "code",
   "execution_count": 9,
   "metadata": {},
   "outputs": [
    {
     "name": "stdout",
     "output_type": "stream",
     "text": [
      "['1' '2' 'test'] <U11\n",
      "[1.  2.  3.1] float64\n"
     ]
    }
   ],
   "source": [
    "list2 = [1, 2, \"test\"]\n",
    "arrayFromList2 = np.array(list2)\n",
    "print(arrayFromList2, arrayFromList2.dtype)  # becomes string\n",
    "\n",
    "list3 = [1, 2, 3.1]\n",
    "arrayFromList3 = np.array(list3)\n",
    "print(arrayFromList3, arrayFromList3.dtype)  # becomes float"
   ]
  },
  {
   "cell_type": "markdown",
   "metadata": {},
   "source": [
    "`ndarray.astype()`\n",
    "\n",
    "- explicitly converts data type to the given argument\n",
    "- often used to remove unnecessary precision for performance\n",
    "- relevant precision is lost on conversion\n"
   ]
  },
  {
   "cell_type": "code",
   "execution_count": 12,
   "metadata": {},
   "outputs": [
    {
     "name": "stdout",
     "output_type": "stream",
     "text": [
      "[1. 2. 3.] float64\n",
      "[1 2 3] int32\n",
      "[1 2 3] int32\n"
     ]
    }
   ],
   "source": [
    "array_int = np.array([1, 2, 3])\n",
    "array_float = array_int.astype(\"float64\")\n",
    "print(array_float, array_float.dtype)\n",
    "\n",
    "array_int1 = array_float.astype(\"int32\")\n",
    "print(array_int1, array_int1.dtype)\n",
    "\n",
    "array_float1 = np.array([1.1, 2.2, 3.3])\n",
    "array_int2 = array_float1.astype(\"int32\")\n",
    "print(array_int2, array_int2.dtype)"
   ]
  },
  {
   "cell_type": "markdown",
   "metadata": {},
   "source": [
    "#### ndarray init helpers\n",
    "\n",
    "numpy.arange()\n",
    "\n",
    "- similar to python's native `range()` function\n"
   ]
  },
  {
   "cell_type": "code",
   "execution_count": 14,
   "metadata": {},
   "outputs": [
    {
     "name": "stdout",
     "output_type": "stream",
     "text": [
      "[0 1 2 3 4 5 6 7 8 9] int32 (10,)\n",
      "[3 4 5 6 7] int32 (5,)\n"
     ]
    }
   ],
   "source": [
    "sequential_array = np.arange(10)\n",
    "print(sequential_array, sequential_array.dtype, sequential_array.shape)\n",
    "\n",
    "sequential_array2 = np.arange(3, 8)\n",
    "print(sequential_array2, sequential_array2.dtype, sequential_array2.shape)"
   ]
  },
  {
   "cell_type": "markdown",
   "metadata": {},
   "source": [
    "numpy.zeros()\n",
    "\n",
    "- input: tuple describing the shape of the ndarray\n",
    "- output: ndarray with all elements initialised with zero\n"
   ]
  },
  {
   "cell_type": "code",
   "execution_count": 15,
   "metadata": {},
   "outputs": [
    {
     "name": "stdout",
     "output_type": "stream",
     "text": [
      "[[0 0]\n",
      " [0 0]\n",
      " [0 0]] int32 (3, 2)\n"
     ]
    }
   ],
   "source": [
    "zero_array = np.zeros((3, 2), dtype=\"int32\")\n",
    "print(zero_array, zero_array.dtype, zero_array.shape)"
   ]
  },
  {
   "cell_type": "markdown",
   "metadata": {},
   "source": [
    "numpy.ones()\n",
    "\n",
    "- input: tuple describing the shape of the ndarray\n",
    "- output: ndarray with all elements initialised with one\n"
   ]
  },
  {
   "cell_type": "code",
   "execution_count": 17,
   "metadata": {},
   "outputs": [
    {
     "name": "stdout",
     "output_type": "stream",
     "text": [
      "[[1. 1. 1.]\n",
      " [1. 1. 1.]] float64 (2, 3)\n"
     ]
    }
   ],
   "source": [
    "one_array = np.ones((2, 3))\n",
    "print(one_array, one_array.dtype, one_array.shape)"
   ]
  }
 ],
 "metadata": {
  "kernelspec": {
   "display_name": "Python 3",
   "language": "python",
   "name": "python3"
  },
  "language_info": {
   "codemirror_mode": {
    "name": "ipython",
    "version": 3
   },
   "file_extension": ".py",
   "mimetype": "text/x-python",
   "name": "python",
   "nbconvert_exporter": "python",
   "pygments_lexer": "ipython3",
   "version": "3.12.3"
  }
 },
 "nbformat": 4,
 "nbformat_minor": 2
}
