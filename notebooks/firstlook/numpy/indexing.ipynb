{
 "cells": [
  {
   "cell_type": "code",
   "execution_count": null,
   "metadata": {},
   "outputs": [],
   "source": [
    "import numpy as np"
   ]
  },
  {
   "cell_type": "markdown",
   "metadata": {},
   "source": [
    "## indexing\n",
    "\n",
    "#### selecting single element at index\n",
    "\n",
    "- use positive integer to fetch from start (starting from 0)\n",
    "- use negative integer to fetch from end (starting from -1)\n"
   ]
  },
  {
   "cell_type": "code",
   "execution_count": null,
   "metadata": {},
   "outputs": [],
   "source": [
    "array1 = np.arange(start=1, stop=10)\n",
    "print(\"array1:\", array1)\n",
    "\n",
    "print(\"element at [3]:\", array1[3], type(array1[3]))\n",
    "\n",
    "print(\"element at [-2]:\", array1[-2])"
   ]
  },
  {
   "cell_type": "code",
   "execution_count": null,
   "metadata": {},
   "outputs": [],
   "source": [
    "array1d = np.arange(start=1, stop=10)\n",
    "array2d = array1d.reshape(-1, 3)\n",
    "print(array2d)\n",
    "\n",
    "print(\"element at row [0] column [0]:\", array2d[0][0])\n",
    "print(\"element at row [1] column [0]:\", array2d[1][0])\n",
    "print(\"element at row [1] column [2]:\", array2d[1][2])"
   ]
  },
  {
   "cell_type": "markdown",
   "metadata": {},
   "source": [
    "#### slicing\n",
    "\n",
    "`ndarray[start_idx:end_idx]`\n",
    "\n",
    "start_idx\n",
    "\n",
    "- inclusive\n",
    "- optional: defaults to 0\n",
    "\n",
    "end_idx\n",
    "\n",
    "- non-inclusive\n",
    "- optional: defaults to last index\n",
    "\n",
    "returns: ndarray\n"
   ]
  },
  {
   "cell_type": "code",
   "execution_count": null,
   "metadata": {},
   "outputs": [],
   "source": [
    "array1 = np.arange(start=1, stop=10)\n",
    "print(\"original: \", array1)\n",
    "sliced = array1[3:6]\n",
    "print(\"sliced:\", sliced, type(sliced))\n",
    "\n",
    "print(\"sliced (optional end index):\", array1[3:])\n",
    "print(\"sliced (optional start index):\", array1[:6])"
   ]
  },
  {
   "cell_type": "code",
   "execution_count": null,
   "metadata": {},
   "outputs": [],
   "source": [
    "array1d = np.arange(start=1, stop=10)\n",
    "array2d = array1d.reshape(-1, 3)\n",
    "print(\"original:\\n\", array2d)\n",
    "\n",
    "print(\"sliced[0:2, 0:2]:\\n\", array2d[0:2, 0:2])\n",
    "print(\"sliced[1:3, 1:3]:\\n\", array2d[1:3, 1:3])\n",
    "print(\"sliced[:3, 2:]:\\n\", array2d[:3, 2:])"
   ]
  },
  {
   "cell_type": "markdown",
   "metadata": {},
   "source": [
    "#### fancy indexing\n",
    "\n",
    "indexing via list or ndarray\n"
   ]
  },
  {
   "cell_type": "code",
   "execution_count": null,
   "metadata": {},
   "outputs": [],
   "source": [
    "array1d = np.arange(start=1, stop=10)\n",
    "array2d = array1d.reshape(3, -1)\n",
    "print(\"original:\\n\", array2d)\n",
    "\n",
    "print(\"slice[[0,1], 2]\\n\", array2d[[0, 1], 2].tolist())\n",
    "print(\"slice[[0,2], 0:2]\\n\", array2d[[0, 2], 0:2].tolist())\n",
    "print(\"slice[[0,2]]\\n\", array2d[[0, 2]].tolist())"
   ]
  },
  {
   "cell_type": "markdown",
   "metadata": {},
   "source": [
    "#### boolean indexing\n",
    "\n",
    "- uses a boolean expression in place of index\n",
    "- often used for filtering and searching\n"
   ]
  },
  {
   "cell_type": "code",
   "execution_count": null,
   "metadata": {},
   "outputs": [],
   "source": [
    "array1d = np.arange(start=1, stop=10)\n",
    "boolean_indexed = array1d[array1d > 5]\n",
    "print(\"boolean indexed:\\n\", boolean_indexed.tolist())\n",
    "\n",
    "print(\"raw\\n\", array1d > 5)"
   ]
  }
 ],
 "metadata": {
  "kernelspec": {
   "display_name": "venv",
   "language": "python",
   "name": "python3"
  },
  "language_info": {
   "codemirror_mode": {
    "name": "ipython",
    "version": 3
   },
   "file_extension": ".py",
   "mimetype": "text/x-python",
   "name": "python",
   "nbconvert_exporter": "python",
   "pygments_lexer": "ipython3",
   "version": "3.12.3"
  }
 },
 "nbformat": 4,
 "nbformat_minor": 2
}
