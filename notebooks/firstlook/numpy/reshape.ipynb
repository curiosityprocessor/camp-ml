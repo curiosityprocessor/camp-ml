{
 "cells": [
  {
   "cell_type": "code",
   "execution_count": 2,
   "metadata": {},
   "outputs": [],
   "source": [
    "import numpy as np"
   ]
  },
  {
   "cell_type": "markdown",
   "metadata": {},
   "source": [
    "## reshape\n",
    "\n",
    "#### `ndarray.reshape()`\n",
    "- converts an existing ndarray into a given shape and size\n",
    "- passing `-1` as parameter results in dynamic reshape"
   ]
  },
  {
   "cell_type": "code",
   "execution_count": 6,
   "metadata": {},
   "outputs": [
    {
     "name": "stdout",
     "output_type": "stream",
     "text": [
      "original array:\n",
      " [ 0  1  2  3  4  5  6  7  8  9 10 11]\n",
      "reshaped array:\n",
      " [[ 0  1  2  3]\n",
      " [ 4  5  6  7]\n",
      " [ 8  9 10 11]]\n",
      "reshaped array 2:\n",
      " [[ 0  1]\n",
      " [ 2  3]\n",
      " [ 4  5]\n",
      " [ 6  7]\n",
      " [ 8  9]\n",
      " [10 11]]\n",
      "dynamic reshaped array:\n",
      " [[ 0  1  2]\n",
      " [ 3  4  5]\n",
      " [ 6  7  8]\n",
      " [ 9 10 11]]\n",
      "dynamic reshaped array 2:\n",
      " [[ 0  1  2  3  4  5]\n",
      " [ 6  7  8  9 10 11]]\n"
     ]
    }
   ],
   "source": [
    "original_array = np.arange(12)\n",
    "print(\"original array:\\n\", original_array)\n",
    "\n",
    "reshaped_array = original_array.reshape(3,4) # reshape into 3 rows x 4 columns\n",
    "print(\"reshaped array:\\n\", reshaped_array)\n",
    "\n",
    "reshaped_array2 = original_array.reshape(6,2) # reshape into 6 rows x 2 columns\n",
    "print(\"reshaped array 2:\\n\", reshaped_array2)\n",
    "\n",
    "dynamic_reshaped_array = original_array.reshape(-1, 3) # reshape into N rows x 3 columns\n",
    "print(\"dynamic reshaped array:\\n\", dynamic_reshaped_array)\n",
    "\n",
    "dynamic_reshaped_array2 = original_array.reshape(\n",
    "    2, -1\n",
    ")  # reshape into 2 rows x N columns\n",
    "print(\"dynamic reshaped array 2:\\n\", dynamic_reshaped_array2)"
   ]
  },
  {
   "cell_type": "markdown",
   "metadata": {},
   "source": [
    "`reshape(-1,1)` is often used as an intermediary operation  \n",
    "to match dimensions of different ndarrays before further processing i.e. aggregate functions"
   ]
  },
  {
   "cell_type": "code",
   "execution_count": 9,
   "metadata": {},
   "outputs": [
    {
     "name": "stdout",
     "output_type": "stream",
     "text": [
      "array in 3d:\n",
      " [[[0, 1], [2, 3]], [[4, 5], [6, 7]]]\n",
      "from 3d to 2d:\n",
      " [[0], [1], [2], [3], [4], [5], [6], [7]] (8, 1)\n",
      "from 1d to 2d:\n",
      " [[0], [1], [2], [3], [4], [5], [6], [7]] (8, 1)\n"
     ]
    }
   ],
   "source": [
    "array1 = np.arange(8)\n",
    "array_3d = array1.reshape((2,2,2))\n",
    "print(\"array in 3d:\\n\", array_3d.tolist())\n",
    "\n",
    "from_3d_to_2d = array_3d.reshape(-1,1)\n",
    "print(\"from 3d to 2d:\\n\", from_3d_to_2d.tolist(), from_3d_to_2d.shape)\n",
    "\n",
    "from_1d_to_2d = array1.reshape(-1, 1)\n",
    "print(\"from 1d to 2d:\\n\", from_1d_to_2d.tolist(), from_1d_to_2d.shape)\n",
    "\n",
    "# call some function where ndarrays' dimensions must match"
   ]
  }
 ],
 "metadata": {
  "kernelspec": {
   "display_name": "venv",
   "language": "python",
   "name": "python3"
  },
  "language_info": {
   "codemirror_mode": {
    "name": "ipython",
    "version": 3
   },
   "file_extension": ".py",
   "mimetype": "text/x-python",
   "name": "python",
   "nbconvert_exporter": "python",
   "pygments_lexer": "ipython3",
   "version": "3.12.3"
  }
 },
 "nbformat": 4,
 "nbformat_minor": 2
}
