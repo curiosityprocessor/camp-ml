{
 "cells": [
  {
   "cell_type": "code",
   "execution_count": null,
   "metadata": {},
   "outputs": [],
   "source": [
    "import numpy as np"
   ]
  },
  {
   "cell_type": "markdown",
   "metadata": {},
   "source": [
    "## sorting\n",
    "\n",
    "#### `numpy.sort()`\n",
    "\n",
    "- immutable\n",
    "- returns a new instance of sorted ndarray\n"
   ]
  },
  {
   "cell_type": "code",
   "execution_count": null,
   "metadata": {},
   "outputs": [],
   "source": [
    "array1 = np.array([4, 2, 6, 8])\n",
    "print(\"original:\", array1.tolist())\n",
    "np_sorted = np.sort(array1)\n",
    "print(\"np.sort()\", np_sorted.tolist())\n",
    "print(\"original after sort:\", array1.tolist())\n",
    "print(\"np.sort() descending\", np.sort(array1)[::-1].tolist())"
   ]
  },
  {
   "cell_type": "markdown",
   "metadata": {},
   "source": [
    "#### `ndarray.sort()`\n",
    "\n",
    "- mutable\n",
    "- alters the existing array indices\n",
    "- return `None`\n"
   ]
  },
  {
   "cell_type": "code",
   "execution_count": null,
   "metadata": {},
   "outputs": [],
   "source": [
    "array1 = np.array([4, 2, 6, 8])\n",
    "print(\"original:\", array1.tolist())\n",
    "ndarray_sorted = array1.sort()\n",
    "print(\"ndarray.sort()\", ndarray_sorted)\n",
    "print(\"original after sort:\", array1.tolist())"
   ]
  },
  {
   "cell_type": "code",
   "execution_count": null,
   "metadata": {},
   "outputs": [],
   "source": [
    "array2d = np.array([[4, 7], [10, 3]])\n",
    "sort_axis0 = np.sort(array2d, axis=0)\n",
    "sort_axis1 = np.sort(array2d, axis=1)\n",
    "print(\"sort by axis 0\", sort_axis0.tolist())\n",
    "print(\"sort by axis 1\", sort_axis1.tolist())"
   ]
  },
  {
   "cell_type": "markdown",
   "metadata": {},
   "source": [
    "#### returning sorted indices\n",
    "\n",
    "- `numpy.argsort()`\n",
    "- returns the sorted indices of the original array\n",
    "- each element in the returned array points to the index of the original array\n"
   ]
  },
  {
   "cell_type": "code",
   "execution_count": null,
   "metadata": {},
   "outputs": [],
   "source": [
    "original_array = np.array([4, 2, 6, 8])\n",
    "sort_indices = np.argsort(original_array)\n",
    "print(\"sort indices:\", sort_indices.tolist())\n",
    "\n",
    "sort_indices_desc = np.argsort(original_array)[::-1]\n",
    "print(\"sort indices desc:\", sort_indices_desc.tolist())"
   ]
  },
  {
   "cell_type": "markdown",
   "metadata": {},
   "source": [
    "#### Use case\n",
    "given a list of key (string) - value (number) pairs, sort the keys by the order of values  "
   ]
  },
  {
   "cell_type": "code",
   "execution_count": null,
   "metadata": {},
   "outputs": [],
   "source": [
    "keys = np.array([\"aldebaran\", \"betelgeuse\", \"cassiopeia\", \"draco\", \"enif\"])\n",
    "values = np.array([65, 642, 54, 148, 690])\n",
    "\n",
    "sort_indices = np.argsort(values);\n",
    "print(\"sorted indices:\", sort_indices.tolist())\n",
    "sorted_keys = keys[sort_indices]\n",
    "print(\"sorted keys:\\n\", sorted_keys.tolist())"
   ]
  }
 ],
 "metadata": {
  "kernelspec": {
   "display_name": "venv",
   "language": "python",
   "name": "python3"
  },
  "language_info": {
   "codemirror_mode": {
    "name": "ipython",
    "version": 3
   },
   "file_extension": ".py",
   "mimetype": "text/x-python",
   "name": "python",
   "nbconvert_exporter": "python",
   "pygments_lexer": "ipython3",
   "version": "3.12.3"
  }
 },
 "nbformat": 4,
 "nbformat_minor": 2
}
