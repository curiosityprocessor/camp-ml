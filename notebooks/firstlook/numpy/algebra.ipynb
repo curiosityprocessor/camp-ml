{
 "cells": [
  {
   "cell_type": "code",
   "execution_count": null,
   "metadata": {},
   "outputs": [],
   "source": [
    "import numpy as np"
   ]
  },
  {
   "cell_type": "markdown",
   "metadata": {},
   "source": [
    "## Linear Algebra\n",
    "\n",
    "#### matrix multiplication\n",
    "\n",
    "- `numpy.dot()`\n",
    "- returns a dot product (matrix multiplication result) of array A and B\n",
    "- axis0 of A and axis1 of B must match\n"
   ]
  },
  {
   "cell_type": "code",
   "execution_count": null,
   "metadata": {},
   "outputs": [],
   "source": [
    "init = np.arange(12)\n",
    "A = init.reshape(-1, 3)\n",
    "B = init.reshape(3, -1)\n",
    "print(\"A:\\n\", A.tolist())\n",
    "print(\"B:\\n\", B.tolist())\n",
    "print(\"dot product:\\n\", np.dot(A, B))"
   ]
  },
  {
   "cell_type": "markdown",
   "metadata": {},
   "source": [
    "#### transpose\n",
    "\n",
    "- returns an array where rows and columns are reversed\n"
   ]
  },
  {
   "cell_type": "code",
   "execution_count": null,
   "metadata": {},
   "outputs": [],
   "source": [
    "original_array = np.arange(1, 10).reshape(3, -1)\n",
    "print(\"original:\\n\", original_array.tolist())\n",
    "transposed = np.transpose(original_array)\n",
    "print(\"transposed:\\n\", transposed.tolist())"
   ]
  }
 ],
 "metadata": {
  "kernelspec": {
   "display_name": "venv",
   "language": "python",
   "name": "python3"
  },
  "language_info": {
   "codemirror_mode": {
    "name": "ipython",
    "version": 3
   },
   "file_extension": ".py",
   "mimetype": "text/x-python",
   "name": "python",
   "nbconvert_exporter": "python",
   "pygments_lexer": "ipython3",
   "version": "3.12.3"
  }
 },
 "nbformat": 4,
 "nbformat_minor": 2
}
